{
  "cells": [
    {
      "cell_type": "markdown",
      "source": [
        "# Getting query data from Honeycomb in F# and .NET!\n",
        "\n",
        "Here's a quick intro to using the [Honeycomb query data API](https://docs.honeycomb.io/api/query-results/) to get data from Honeycomb into F# and .NET Interactive.\n",
        "\n",
        "First, we'll grab some packages."
      ],
      "metadata": {}
    },
    {
      "cell_type": "code",
      "execution_count": null,
      "source": [
        "#r \"nuget: FSharp.Data\"\r\n",
        "#r \"nuget: SchlenkR.FsHttp\"\r\n",
        "#r \"nuget: Plotly.NET.Interactive, 2.0.0-preview.6\"\r\n",
        "\r\n",
        "open FSharp.Data\r\n",
        "open Plotly.NET\r\n",
        "open FsHttp\r\n",
        "open FsHttp.Dsl"
      ],
      "outputs": [],
      "metadata": {
        "dotnet_interactive": {
          "language": "fsharp"
        }
      }
    },
    {
      "cell_type": "markdown",
      "source": [
        "Next, we'll set up some basic values we'll need to get some interesting data. You could expand endpoints and datasets for different kinds of data."
      ],
      "metadata": {}
    },
    {
      "cell_type": "code",
      "execution_count": null,
      "source": [
        "let queryEndpoint = \"https://api-dogfood.honeycomb.io/1/queries\"\r\n",
        "let queryDataEndpoint = \"https://api-dogfood.honeycomb.io/1/query_results\"\r\n",
        "let dataset = \"shepherd\"\r\n",
        "let key = \"nope.lol\""
      ],
      "outputs": [],
      "metadata": {
        "dotnet_interactive": {
          "language": "fsharp"
        }
      }
    },
    {
      "cell_type": "markdown",
      "source": [
        "Now we'll built out a little module to simplify getting the query data itself. The currenty query data API requires a 3-step process to get data you can do interesting stuff with."
      ],
      "metadata": {}
    },
    {
      "cell_type": "code",
      "execution_count": null,
      "source": [
        "open FSharp.Data.JsonExtensions\r\n",
        "\r\n",
        "module QueryOps =\r\n",
        "    let getQueryDataResult endpoint dataset queryDataResultId =\r\n",
        "        get $\"{endpoint}/{dataset}/{queryDataResultId}\"\r\n",
        "        |> header \"X-Honeycomb-Team\" key\r\n",
        "        |> Request.send\r\n",
        "        |> Response.toJson\r\n",
        "        |> fun json -> json.ToString()\r\n",
        "\r\n",
        "    let createQueryDataResult endpoint dataset queryId =\r\n",
        "        post $\"{endpoint}/{dataset}/\"\r\n",
        "        |> header \"X-Honeycomb-Team\" key\r\n",
        "        |> body\r\n",
        "        |> json $\"\"\"{{\"query_id\": \"{queryId}\"}}\"\"\"\r\n",
        "        |> Request.send\r\n",
        "        |> Response.toJson\r\n",
        "        |> fun json -> json.ToString()\r\n",
        "\r\n",
        "    let createQuery queryJson =\r\n",
        "        post $\"{queryEndpoint}/{dataset}\"\r\n",
        "        |> header \"X-Honeycomb-Team\" key\r\n",
        "        |> body\r\n",
        "        |> Body.json queryJson\r\n",
        "        |> Request.send\r\n",
        "        |> Response.toJson\r\n",
        "        |> fun json -> json.ToString()\r\n",
        "    \r\n",
        "    let getFullQueryResults queryJson =\r\n",
        "        let getQueryResults queryDataResultId =\r\n",
        "            let rec loop finished results =\r\n",
        "                async {\r\n",
        "                    if finished then\r\n",
        "                        return results\r\n",
        "                    else\r\n",
        "                        let res = getQueryDataResult queryDataEndpoint dataset queryDataResultId\r\n",
        "                        let jsonValue = JsonValue.Parse(res)\r\n",
        "                        do! Async.Sleep(1_000)\r\n",
        "                        return! loop (jsonValue?complete.AsBoolean()) res\r\n",
        "                }\r\n",
        "\r\n",
        "            loop false \"\"\r\n",
        "            |> Async.RunSynchronously\r\n",
        "\r\n",
        "        let queryDataResultId =\r\n",
        "            createQuery queryJson\r\n",
        "            |> JsonValue.Parse\r\n",
        "            |> fun json -> json?id.AsString()\r\n",
        "            |> createQueryDataResult queryDataEndpoint dataset\r\n",
        "            |> JsonValue.Parse\r\n",
        "            |> fun json -> json?id.AsString()\r\n",
        "\r\n",
        "        getQueryResults queryDataResultId"
      ],
      "outputs": [],
      "metadata": {
        "dotnet_interactive": {
          "language": "fsharp"
        }
      }
    },
    {
      "cell_type": "markdown",
      "source": [
        "Next, we'll define a query spec in JSON. Since F# (and most languages!) don't support JSON literals, it has to be a big string."
      ],
      "metadata": {}
    },
    {
      "cell_type": "code",
      "execution_count": null,
      "source": [
        "let queryJson =\n",
        "    \"\"\"\n",
        "{\n",
        "    \"time_range\": 86400,\n",
        "    \"granularity\": 0,\n",
        "    \"breakdowns\": [\n",
        "        \"app.team.name\"\n",
        "    ],\n",
        "    \"calculations\": [\n",
        "        {\n",
        "            \"op\": \"COUNT\"\n",
        "        }\n",
        "    ],\n",
        "    \"filters\": [\n",
        "        {\n",
        "            \"column\": \"app.honeycomb.distro.version\",\n",
        "            \"op\": \"exists\"\n",
        "        }\n",
        "    ],\n",
        "    \"filter_combination\": \"AND\",\n",
        "    \"orders\": [\n",
        "        {\n",
        "            \"op\": \"COUNT\",\n",
        "            \"order\": \"descending\"\n",
        "        }\n",
        "    ],\n",
        "    \"limit\": 1000\n",
        "}\n",
        "    \"\"\""
      ],
      "outputs": [],
      "metadata": {
        "dotnet_interactive": {
          "language": "fsharp"
        }
      }
    },
    {
      "cell_type": "markdown",
      "source": [
        "Now we'll pass it in, get the JSON response, and parse out the time series information.\n",
        "\n",
        "It's important to note that the schema of the data that you get back depends on the query spec you send in! It may be quite time-consuming to write static models that represent the data you might want to get back.\n",
        "\n",
        "As such, we use `FSharp.Data.JsonExtensions` here to **dynamically** parse out the data we want, just like if we were in JavaScript. It's not type-safe, which means this is squarely outside the norm for any .NET programmer. But it is the easiest way to get the data."
      ],
      "metadata": {}
    },
    {
      "cell_type": "code",
      "execution_count": null,
      "source": [
        "let queryDataResults = QueryOps.getFullQueryResults queryJson\n",
        "let info = JsonValue.Parse(queryDataResults)\n",
        "let teams =\n",
        "    info?data?series.AsArray()\n",
        "    |> Array.groupBy (fun x -> x?data?``app.team.name``.AsString())\n",
        "printfn \"Done!\""
      ],
      "outputs": [],
      "metadata": {
        "dotnet_interactive": {
          "language": "fsharp"
        }
      }
    },
    {
      "cell_type": "markdown",
      "source": [
        "Now that we have some data in the form that we like it, we can start to play with it!\n",
        "\n",
        "Here we'll generate a table that shows the total event counts in the query by team name."
      ],
      "metadata": {}
    },
    {
      "cell_type": "code",
      "execution_count": null,
      "source": [
        "open Plotly.NET.StyleParam\n",
        "\n",
        "let aggregateTeamData =\n",
        "    teams\n",
        "    |> Array.map (fun (team, data) ->\n",
        "        let sum =\n",
        "            data\n",
        "            |> Array.sumBy (fun x -> x?data?COUNT.AsInteger())\n",
        "        team, sum)\n",
        "    |> Array.sortByDescending snd\n",
        "\n",
        "let tableChart =\n",
        "    let header = [\"app.team.name\"; \"COUNT\"]\n",
        "    let rows =\n",
        "        aggregateTeamData\n",
        "        |> Array.map (fun (sum, count) -> [ sum; string count ])\n",
        "    Chart.Table(\n",
        "        header,\n",
        "        rows,\n",
        "        ColorHeader = \"#45546a\",\n",
        "        FontHeader = Font.init(FontFamily.Courier_New, Size=12., Color=\"white\"))\n",
        "\n",
        "tableChart\n",
        "|> Chart.withTitle(\"Beestro usage by team (24 hrs)\")"
      ],
      "outputs": [],
      "metadata": {
        "dotnet_interactive": {
          "language": "fsharp"
        }
      }
    },
    {
      "cell_type": "markdown",
      "source": [
        "Tables are cool, but numbers are best when you visualize them. Let's bar chart it up!"
      ],
      "metadata": {}
    },
    {
      "cell_type": "code",
      "execution_count": null,
      "source": [
        "let keys = aggregateTeamData |> Array.map fst\n",
        "let values = aggregateTeamData |> Array.map snd\n",
        "Chart.Bar(keys, values)\n",
        "|> Chart.withTitle(\"Beestro usage by team (24 hrs)\")"
      ],
      "outputs": [],
      "metadata": {
        "dotnet_interactive": {
          "language": "fsharp"
        }
      }
    },
    {
      "cell_type": "markdown",
      "source": [
        "Now we'll take it a little further by seeing if we can replicate the gorgeous Honeycomb UI."
      ],
      "metadata": {}
    },
    {
      "cell_type": "code",
      "execution_count": null,
      "source": [
        "open Plotly.NET.StyleParam\n",
        "\n",
        "let timeseriesChart =\n",
        "    teams\n",
        "    |> Array.map (fun (team, data) ->\n",
        "        let times = data |> Array.map (fun datum -> datum?time.AsDateTime())\n",
        "        let counts = data |> Array.map (fun datum -> datum?data?COUNT.AsInteger())\n",
        "        Chart.Line(times, counts, Name = team))\n",
        "    |> Chart.Combine\n",
        "    |> Chart.withSize(1000.0, 800.0)\n",
        "\n",
        "Chart.SingleStack(\n",
        "    [\n",
        "        tableChart\n",
        "        timeseriesChart\n",
        "    ])\n",
        "|> Chart.withLayoutGridStyle(YGap = 0.3)\n",
        "|> Chart.withTitle(\"Beestro events by team (24hr), but in Plotly!\")"
      ],
      "outputs": [],
      "metadata": {
        "dotnet_interactive": {
          "language": "fsharp"
        }
      }
    },
    {
      "cell_type": "markdown",
      "source": [
        "Having access to the data and a general purpose charting library gives us some new capabilities that we don't have in the Honeycomb UI.\n",
        "\n",
        "Here we'll split out the time series data into individual subplots."
      ],
      "metadata": {}
    },
    {
      "cell_type": "code",
      "execution_count": null,
      "source": [
        "let lines =\n",
        "    teams\n",
        "    |> Array.map (fun (team, data) ->\n",
        "        let times = data |> Array.map (fun datum -> datum?time.AsDateTime())\n",
        "        let counts = data |> Array.map (fun datum -> datum?data?COUNT.AsInteger())\n",
        "        Chart.Line(times, counts, Name = team), counts |> Array.sum\n",
        "    )\n",
        "    |> Array.sortBy (fun (_, total) -> total)\n",
        "    |> Array.map fst\n",
        "\n",
        "Chart.SingleStack(lines)\n",
        "|> Chart.withTitle($\"Splitting out team events...\")\n",
        "|> Chart.withSize(1000.0, 800.0)"
      ],
      "outputs": [],
      "metadata": {
        "dotnet_interactive": {
          "language": "fsharp"
        }
      }
    },
    {
      "cell_type": "markdown",
      "source": [
        "We can also get a statistical view of things with this data!"
      ],
      "metadata": {}
    },
    {
      "cell_type": "code",
      "execution_count": null,
      "source": [
        "teams\n",
        "|> Array.map (fun (team, data) ->\n",
        "    let counts = data |> Array.map (fun datum -> datum?data?COUNT.AsInteger())\n",
        "    Chart.BoxPlot(counts, team, Name = team, Jitter = 0.1, Boxpoints = StyleParam.Boxpoints.All))\n",
        "|> Chart.Combine\n",
        "|> Chart.withTitle($\"A view into event distribution (past 24 hrs), by team\")\n",
        "|> Chart.withSize(1000.0, 800.0)"
      ],
      "outputs": [],
      "metadata": {
        "dotnet_interactive": {
          "language": "fsharp"
        }
      }
    },
    {
      "cell_type": "code",
      "execution_count": null,
      "source": [],
      "outputs": [],
      "metadata": {
        "dotnet_interactive": {
          "language": "fsharp"
        }
      }
    }
  ],
  "metadata": {
    "kernelspec": {
      "display_name": ".NET (C#)",
      "language": "C#",
      "name": ".net-csharp"
    },
    "language_info": {
      "file_extension": ".cs",
      "mimetype": "text/x-csharp",
      "name": "C#",
      "pygments_lexer": "csharp",
      "version": "8.0"
    }
  },
  "nbformat": 4,
  "nbformat_minor": 4
}